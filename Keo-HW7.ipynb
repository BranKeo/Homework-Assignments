{
 "cells": [
  {
   "cell_type": "code",
   "execution_count": 14,
   "id": "f2480405",
   "metadata": {
    "scrolled": true
   },
   "outputs": [
    {
     "name": "stdout",
     "output_type": "stream",
     "text": [
      "a: .001\n",
      "b: 1000\n",
      "c: .001\n",
      " \n",
      "Original: -9.999894245993346e-07 and -999999.999999\n",
      " \n",
      "Alternative: -1.000000000001e-06 and -1000010.5755125057\n",
      " \n",
      "accurate root 1: 0.0\n",
      "accurate root 2: -1000000.0\n"
     ]
    }
   ],
   "source": [
    "#1a\n",
    "import numpy as np\n",
    "\n",
    "a = float(input('a: '))\n",
    "b = float(input('b: '))\n",
    "c = float(input('c: '))\n",
    "\n",
    "x1 = (-b + (b**2 - 4*a*c)**.5) / (2*a)\n",
    "x2 = (-b - (b**2 - 4*a*c)**.5) / (2*a)\n",
    "\n",
    "print(' ')\n",
    "print('Original: ' + str(x1) + ' and ' + str(x2))\n",
    "\n",
    "#1b\n",
    "x1alt = (2*c) / (-b - (b**2 - 4*a*c)**.5)\n",
    "x2alt = (2*c) / (-b + (b**2 - 4*a*c)**.5)\n",
    "\n",
    "\n",
    "print(' ')\n",
    "print('Alternative: ' + str(x1alt) + ' and ' + str(x2alt))\n",
    "print(' ')\n",
    "\n",
    "#1c\n",
    "dis = (b**2) - (4*a*c)\n",
    "bottom = 2*a\n",
    "dis_round = round(dis, 5)\n",
    "bottom_round = round(bottom, 5)\n",
    "\n",
    "real = (-b + np.sqrt(dis_round)) / bottom_round\n",
    "real2 = (-b - np.sqrt(dis_round)) / bottom_round\n",
    "\n",
    "print('accurate root 1: ' + str(real))\n",
    "print('accurate root 2: ' + str(real2))"
   ]
  },
  {
   "cell_type": "code",
   "execution_count": 16,
   "id": "7a89cd72",
   "metadata": {},
   "outputs": [
    {
     "name": "stdout",
     "output_type": "stream",
     "text": [
      "48.28330666666668\n",
      "9.393207505066666\n",
      "0.9985773878702509\n"
     ]
    }
   ],
   "source": [
    "#2\n",
    "a = 0\n",
    "b = 2\n",
    "\n",
    "N1 = 10\n",
    "N2 = 100\n",
    "N3 = 1000\n",
    "\n",
    "h1 = 2/N1\n",
    "h2 = 2/N2\n",
    "h3 = 2/N3\n",
    "\n",
    "def f(x):\n",
    "    return x**4 - 2*x + 1\n",
    "    \n",
    "\n",
    "#N1    \n",
    "for k in range(1, N1, 2):\n",
    "    sN1odd = 0\n",
    "    sN1odd += f(a + h1*(2*k - 1))\n",
    "\n",
    "for k in range(2, N1, 2):\n",
    "    sN1even = 0\n",
    "    sN1even += f(a + 2*k*h1)\n",
    "    \n",
    "#N2   \n",
    "for k in range(1, N2, 2):\n",
    "    sN2odd = 0\n",
    "    sN2odd += f(a + h2*(2*k - 1))\n",
    "\n",
    "for k in range(2, N2, 2):\n",
    "    sN2even = 0\n",
    "    sN2even += f(a + 2*k*h2)\n",
    "    \n",
    "#N3    \n",
    "for k in range(1, N3, 2):\n",
    "    sN3odd = 0\n",
    "    sN3odd += f(a + h3*(2*k - 1))\n",
    "\n",
    "for k in range(2, N3, 2):\n",
    "    sN3even = 0\n",
    "    sN3even += f(a + 2*k*h3)\n",
    "\n",
    "Simpson1 = (h1/3) * (f(a) + f(b) + (4*sN1odd) + (2*sN1even))\n",
    "Simpson2 = (h2/3) * (f(a) + f(b) + (4*sN2odd) + (2*sN2even))\n",
    "Simpson3 = (h3/3) * (f(a) + f(b) + (4*sN3odd) + (2*sN3even))\n",
    "\n",
    "print(Simpson1)\n",
    "print(Simpson2)\n",
    "print(Simpson3)"
   ]
  },
  {
   "cell_type": "code",
   "execution_count": 13,
   "id": "00dd6c1f",
   "metadata": {},
   "outputs": [
    {
     "name": "stdout",
     "output_type": "stream",
     "text": [
      "0.3320749592681263\n"
     ]
    }
   ],
   "source": [
    "#3a, assuming temperature T = 5K\n",
    "\n",
    "import numpy as np\n",
    "\n",
    "V = 1000 / (10 ** 6)\n",
    "p = 6.02 * (10**28)\n",
    "kB = 1.38 * 10**(-23)\n",
    "debye_temp = 428\n",
    "N = 1000\n",
    "T = 5\n",
    "a = 0\n",
    "b = 2\n",
    "h = (b-a)/N\n",
    "\n",
    "def I(x):\n",
    "    return (x**4) * (2.718) / ((2.718 - 1 ** 2))\n",
    "\n",
    "for m in range(0, N, 1):\n",
    "    integral = 0\n",
    "    integral += .5*h*(I(m*h)) + I(.05+m*h)\n",
    "    \n",
    "Cv = (9*V*p*kB*(T/debye_temp)**3) * integral\n",
    "print(Cv)\n",
    "\n",
    "#3b graph"
   ]
  },
  {
   "cell_type": "code",
   "execution_count": 6,
   "id": "919057c7",
   "metadata": {},
   "outputs": [
    {
     "name": "stdout",
     "output_type": "stream",
     "text": [
      "\n"
     ]
    }
   ],
   "source": [
    "print('')"
   ]
  },
  {
   "cell_type": "code",
   "execution_count": null,
   "id": "b31f6a72",
   "metadata": {},
   "outputs": [],
   "source": []
  }
 ],
 "metadata": {
  "kernelspec": {
   "display_name": "Python 3",
   "language": "python",
   "name": "python3"
  },
  "language_info": {
   "codemirror_mode": {
    "name": "ipython",
    "version": 3
   },
   "file_extension": ".py",
   "mimetype": "text/x-python",
   "name": "python",
   "nbconvert_exporter": "python",
   "pygments_lexer": "ipython3",
   "version": "3.8.8"
  }
 },
 "nbformat": 4,
 "nbformat_minor": 5
}
